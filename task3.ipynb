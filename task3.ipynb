{
 "cells": [
  {
   "cell_type": "code",
   "execution_count": 2,
   "id": "7db483ba-3b73-4023-a0ce-65fa12b4d956",
   "metadata": {},
   "outputs": [],
   "source": [
    "import pandas as pd\n",
    "import numpy as np\n",
    "import nltk\n",
    "import random\n",
    "import string\n",
    "from sklearn.feature_extraction.text import TfidfVectorizer\n",
    "from sklearn.metrics.pairwise import cosine_similarity\n"
   ]
  },
  {
   "cell_type": "code",
   "execution_count": 3,
   "id": "60a1f904-10bd-40cc-8f28-651733335c34",
   "metadata": {},
   "outputs": [
    {
     "data": {
      "text/html": [
       "<div>\n",
       "<style scoped>\n",
       "    .dataframe tbody tr th:only-of-type {\n",
       "        vertical-align: middle;\n",
       "    }\n",
       "\n",
       "    .dataframe tbody tr th {\n",
       "        vertical-align: top;\n",
       "    }\n",
       "\n",
       "    .dataframe thead th {\n",
       "        text-align: right;\n",
       "    }\n",
       "</style>\n",
       "<table border=\"1\" class=\"dataframe\">\n",
       "  <thead>\n",
       "    <tr style=\"text-align: right;\">\n",
       "      <th></th>\n",
       "      <th>question</th>\n",
       "      <th>answer</th>\n",
       "    </tr>\n",
       "  </thead>\n",
       "  <tbody>\n",
       "    <tr>\n",
       "      <th>0</th>\n",
       "      <td>How can I reset my password?</td>\n",
       "      <td>You can reset your password by clicking 'Forgo...</td>\n",
       "    </tr>\n",
       "    <tr>\n",
       "      <th>1</th>\n",
       "      <td>What is the refund policy?</td>\n",
       "      <td>Refunds are processed within 7 business days a...</td>\n",
       "    </tr>\n",
       "    <tr>\n",
       "      <th>2</th>\n",
       "      <td>How do I track my order?</td>\n",
       "      <td>You can track your order in the 'My Orders' se...</td>\n",
       "    </tr>\n",
       "    <tr>\n",
       "      <th>3</th>\n",
       "      <td>Can I change my delivery address?</td>\n",
       "      <td>Yes, you can update your delivery address in y...</td>\n",
       "    </tr>\n",
       "    <tr>\n",
       "      <th>4</th>\n",
       "      <td>Do you offer 24/7 support?</td>\n",
       "      <td>Yes, our support team is available 24/7.</td>\n",
       "    </tr>\n",
       "  </tbody>\n",
       "</table>\n",
       "</div>"
      ],
      "text/plain": [
       "                            question  \\\n",
       "0       How can I reset my password?   \n",
       "1         What is the refund policy?   \n",
       "2           How do I track my order?   \n",
       "3  Can I change my delivery address?   \n",
       "4         Do you offer 24/7 support?   \n",
       "\n",
       "                                              answer  \n",
       "0  You can reset your password by clicking 'Forgo...  \n",
       "1  Refunds are processed within 7 business days a...  \n",
       "2  You can track your order in the 'My Orders' se...  \n",
       "3  Yes, you can update your delivery address in y...  \n",
       "4           Yes, our support team is available 24/7.  "
      ]
     },
     "execution_count": 3,
     "metadata": {},
     "output_type": "execute_result"
    }
   ],
   "source": [
    "df = pd.read_csv(\"customer_support.csv\")\n",
    "df.head()\n"
   ]
  },
  {
   "cell_type": "code",
   "execution_count": null,
   "id": "6c577d08-744c-4b34-9e32-cba70736667f",
   "metadata": {},
   "outputs": [],
   "source": [
    "data = {\n",
    "    \"question\": [\n",
    "        \"How can I reset my password?\",\n",
    "        \"What is the refund policy?\",\n",
    "        \"How do I track my order?\",\n",
    "        \"Can I change my delivery address?\"\n",
    "    ],\n",
    "    \"answer\": [\n",
    "        \"You can reset your password by clicking 'Forgot Password' on the login page.\",\n",
    "        \"Refunds are processed within 7 business days after approval.\",\n",
    "        \"You can track your order in the 'My Orders' section.\",\n",
    "        \"Yes, you can update your delivery address in your account settings.\"\n",
    "    ]\n",
    "}\n",
    "df = pd.DataFrame(data)"
   ]
  },
  {
   "cell_type": "code",
   "execution_count": 5,
   "id": "038c57ff-44fd-4cb2-b7f8-f178609f86f5",
   "metadata": {},
   "outputs": [],
   "source": [
    "vectorizer = TfidfVectorizer()\n",
    "X = vectorizer.fit_transform(df['question'])\n"
   ]
  },
  {
   "cell_type": "code",
   "execution_count": 2,
   "id": "318f70f2-f047-43e9-b1e9-ccb105df8a7b",
   "metadata": {},
   "outputs": [],
   "source": [
    "def chatbot_response(user_input):\n",
    "    user_vec = vectorizer.transform([user_input])\n",
    "    similarity = cosine_similarity(user_vec, X)\n",
    "    idx = similarity.argmax()\n",
    "    if similarity[0, idx] < 0.3:  # threshold for fallback\n",
    "        return \"Sorry, I didn’t understand. Can you rephrase?\"\n",
    "    return df['answer'].iloc[idx]\n"
   ]
  },
  {
   "cell_type": "code",
   "execution_count": 7,
   "id": "7198d9b0-1cf8-4303-83ff-d430877b00ce",
   "metadata": {},
   "outputs": [
    {
     "name": "stdin",
     "output_type": "stream",
     "text": [
      "You:  gnbhehdiwke\n"
     ]
    },
    {
     "name": "stdout",
     "output_type": "stream",
     "text": [
      "Chatbot: Sorry, I didn’t understand. Can you rephrase?\n"
     ]
    },
    {
     "name": "stdin",
     "output_type": "stream",
     "text": [
      "You:  hai\n"
     ]
    },
    {
     "name": "stdout",
     "output_type": "stream",
     "text": [
      "Chatbot: Sorry, I didn’t understand. Can you rephrase?\n"
     ]
    },
    {
     "name": "stdin",
     "output_type": "stream",
     "text": [
      "You:  exit\n"
     ]
    },
    {
     "name": "stdout",
     "output_type": "stream",
     "text": [
      "Chatbot: Goodbye 👋\n"
     ]
    }
   ],
   "source": [
    "while True:\n",
    "    user_input = input(\"You: \")\n",
    "    if user_input.lower() in [\"exit\", \"quit\", \"bye\"]:\n",
    "        print(\"Chatbot: Goodbye 👋\")\n",
    "        break\n",
    "    response = chatbot_response(user_input)\n",
    "    print(\"Chatbot:\", response)\n"
   ]
  }
 ],
 "metadata": {
  "kernelspec": {
   "display_name": "Python 3 (ipykernel)",
   "language": "python",
   "name": "python3"
  },
  "language_info": {
   "codemirror_mode": {
    "name": "ipython",
    "version": 3
   },
   "file_extension": ".py",
   "mimetype": "text/x-python",
   "name": "python",
   "nbconvert_exporter": "python",
   "pygments_lexer": "ipython3",
   "version": "3.13.7"
  }
 },
 "nbformat": 4,
 "nbformat_minor": 5
}
